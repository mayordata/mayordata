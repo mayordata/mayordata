{
 "cells": [
  {
   "cell_type": "markdown",
   "id": "f596efbc",
   "metadata": {},
   "source": [
    "## Data Science Tools and  Ecosystem\n",
    "\n"
   ]
  },
  {
   "cell_type": "markdown",
   "id": "24b14ec9",
   "metadata": {},
   "source": [
    "#### In this notebook, Data Science Tools and Ecosystems are summarized."
   ]
  },
  {
   "cell_type": "markdown",
   "id": "1153598f",
   "metadata": {},
   "source": [
    "## Objectives:\n",
    "* List popular libraries for data science\n",
    "* List popular languages for data science\n",
    "* Example of Arithmetic Expression in Python\n"
   ]
  },
  {
   "cell_type": "markdown",
   "id": "4d8b7b4c",
   "metadata": {},
   "source": [
    "##### Some of the popular languages that Data Scientists use are: \n",
    "1. Python language\n",
    "2. R language\n",
    "3. SQL\n",
    "    "
   ]
  },
  {
   "cell_type": "markdown",
   "id": "4e591107",
   "metadata": {},
   "source": [
    "## Data Science libraries\n",
    "###### Some of the commonly used libaray used by data scientists include:\n",
    "1. Numpy\n",
    "2. Pandas\n",
    "3. Tensorflow\n",
    "4. Matplotlib\n",
    "5. Scipy"
   ]
  },
  {
   "cell_type": "markdown",
   "id": "03191142",
   "metadata": {},
   "source": [
    "## Data Science Tools\n",
    "| Data Science Tools |\n",
    "| ------------------ |\n",
    "|Python |\n",
    "|SQL |\n",
    "|R |\n",
    "|Git |"
   ]
  },
  {
   "cell_type": "markdown",
   "id": "1a5f2c3a",
   "metadata": {},
   "source": [
    "## Arithmetic Expression\n",
    "\n",
    "#### Below are a few example of evaluating arithmetic expressions in python\n",
    "\n",
    "1. Addition ( + )\n",
    "2. Minus ( - )\n",
    "3. Multiplication ( * )\n",
    "4. Division ( / )"
   ]
  },
  {
   "cell_type": "code",
   "execution_count": 2,
   "id": "1b2b9edf",
   "metadata": {},
   "outputs": [
    {
     "data": {
      "text/plain": [
       "17"
      ]
     },
     "execution_count": 2,
     "metadata": {},
     "output_type": "execute_result"
    }
   ],
   "source": [
    "# This is a simple arithmetic expression to multiply then add integers\n",
    "\n",
    "(3 * 4) + 5"
   ]
  },
  {
   "cell_type": "code",
   "execution_count": 5,
   "id": "c6d9592f",
   "metadata": {},
   "outputs": [
    {
     "name": "stdout",
     "output_type": "stream",
     "text": [
      "3.3333333333333335\n"
     ]
    }
   ],
   "source": [
    "# This will convert 200 minutes to hours by diving by 60\n",
    "\n",
    "hours = 200 / 60\n",
    "print(hours)"
   ]
  },
  {
   "cell_type": "markdown",
   "id": "19dd0803",
   "metadata": {},
   "source": [
    "## Author Name\n",
    "Mayowa"
   ]
  },
  {
   "cell_type": "code",
   "execution_count": null,
   "id": "a725b905",
   "metadata": {},
   "outputs": [],
   "source": []
  }
 ],
 "metadata": {
  "kernelspec": {
   "display_name": "Python 3 (ipykernel)",
   "language": "python",
   "name": "python3"
  },
  "language_info": {
   "codemirror_mode": {
    "name": "ipython",
    "version": 3
   },
   "file_extension": ".py",
   "mimetype": "text/x-python",
   "name": "python",
   "nbconvert_exporter": "python",
   "pygments_lexer": "ipython3",
   "version": "3.10.9"
  }
 },
 "nbformat": 4,
 "nbformat_minor": 5
}
